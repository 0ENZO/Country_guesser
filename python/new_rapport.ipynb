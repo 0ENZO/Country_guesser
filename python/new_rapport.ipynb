{
 "cells": [
  {
   "cell_type": "markdown",
   "source": [
    "# Country Guesser : Rapport interactif"
   ],
   "metadata": {
    "collapsed": false,
    "pycharm": {
     "name": "#%% md\n"
    }
   }
  },
  {
   "cell_type": "markdown",
   "source": [
    "## Sujet\n",
    "\n",
    "Le sujet était imposé, implémenté un PMC dans le but de pouvoir classifier 3 drapeaux nationaux\n",
    "Les drapeaux choisis sont les suivants : Jordanie, Palestine, Soudan\n",
    "\n",
    "Pourquoi ceux là ? Car ils se ressemblent énormément et qu\\'il est difficile pour la plupart des\n",
    "personnes intérogées, de les distinguer les uns des autres."
   ],
   "metadata": {
    "collapsed": false,
    "pycharm": {
     "name": "#%% md\n"
    }
   }
  },
  {
   "cell_type": "markdown",
   "source": [
    "## Dataset\n",
    "\n",
    "Le dataset est constitué d'environ 250 images par drapeau, aux alentours de 200 pour l'entraînement\n",
    "et de 40 pour le test.\n",
    "\n",
    "Les images ont été récupérés à l'aide d'extensions chrome afin de télécharger toutes les images d'une même\n",
    "page. Les drapeaux n'étant pas aussi populaires que d'autres drapeaux (européens par exemple) il a fallut\n",
    "allait en télécharger sur différents moteurs de recherche"
   ],
   "metadata": {
    "collapsed": false,
    "pycharm": {
     "name": "#%% md\n"
    }
   }
  },
  {
   "cell_type": "markdown",
   "source": [
    "## Librairie\n",
    "\n",
    "Le perceptron multicouche a été implémenté en C++"
   ],
   "metadata": {
    "collapsed": false,
    "pycharm": {
     "name": "#%% md\n"
    }
   }
  },
  {
   "cell_type": "markdown",
   "source": [
    "## Application\n",
    "\n",
    "L'application a été développé à l'aide du framework streamlit pour sa simplicité et son apparence. J'ai également\n",
    "utilisé ngrok afin de pouvoir déployé l'application en local, voir en ligne."
   ],
   "metadata": {
    "collapsed": false,
    "pycharm": {
     "name": "#%% md\n"
    }
   }
  },
  {
   "cell_type": "markdown",
   "source": [
    "## Imports"
   ],
   "metadata": {
    "collapsed": false
   }
  },
  {
   "cell_type": "code",
   "execution_count": 2,
   "outputs": [],
   "source": [
    "from sklearn.metrics import mean_squared_error\n",
    "from sklearn.metrics import accuracy_score\n",
    "import matplotlib.pyplot as plt\n",
    "from PIL import Image\n",
    "from ctypes import *\n",
    "from image import *\n",
    "from conf import *\n",
    "import numpy as np\n",
    "from mlp import *\n",
    "import os"
   ],
   "metadata": {
    "collapsed": false,
    "pycharm": {
     "name": "#%%\n"
    }
   }
  },
  {
   "cell_type": "markdown",
   "source": [
    "## Import du dataset"
   ],
   "metadata": {
    "collapsed": false
   }
  },
  {
   "cell_type": "code",
   "execution_count": 62,
   "outputs": [],
   "source": [
    "def transform_image(img, img_size):\n",
    "    img = img.resize((img_size, img_size))\n",
    "\n",
    "    if img.mode == \"RGBA\":\n",
    "        rgba = np.array(img)\n",
    "        rgba[rgba[..., -1] == 0] = [255, 255, 255, 0]\n",
    "        img = Image.fromarray(rgba)\n",
    "    img = img.convert(\"RGB\")\n",
    "\n",
    "    return img"
   ],
   "metadata": {
    "collapsed": false,
    "pycharm": {
     "name": "#%%\n"
    }
   }
  },
  {
   "cell_type": "code",
   "execution_count": 63,
   "outputs": [],
   "source": [
    "def fill_x_and_y_with_images_and_labels(folder, x_list, y_list, label, img_size):\n",
    "    for file in os.listdir(folder):\n",
    "        file_path = os.path.join(folder, file)\n",
    "        image = Image.open(file_path)\n",
    "        img = transform_image(image, img_size)\n",
    "        hor_flip = img.transpose(Image.FLIP_LEFT_RIGHT)\n",
    "        ver_flip = img.transpose(Image.FLIP_TOP_BOTTOM)\n",
    "\n",
    "        ims_arr = []\n",
    "        ims_arr.append(np.array(img))\n",
    "        ims_arr.append(np.array(hor_flip))\n",
    "        ims_arr.append(np.array(ver_flip))\n",
    "\n",
    "        for arr in ims_arr:\n",
    "            arr = arr.flatten()\n",
    "            arr = arr / 255.0\n",
    "            x_list.append(arr)\n",
    "            y_list.append(label)"
   ],
   "metadata": {
    "collapsed": false,
    "pycharm": {
     "name": "#%%\n"
    }
   }
  },
  {
   "cell_type": "code",
   "execution_count": 64,
   "outputs": [],
   "source": [
    "def import_dataset(img_size=IMAGE_SIZE, dataset=DATASET_FOLDER2):\n",
    "    x_train = []\n",
    "    y_train = []\n",
    "    x_test = []\n",
    "    y_test = []\n",
    "\n",
    "    classes = list(CLASSES)\n",
    "    if dataset == DATASET_FOLDER3:\n",
    "        classes = [\"allemagne\", \"france\", \"italie\"]\n",
    "    print(classes)\n",
    "\n",
    "    train_first_folder = os.path.join(dataset, f\"train/{classes[0]}\").replace(os.sep, '/')\n",
    "    train_second_folder = os.path.join(dataset, f\"train/{classes[1]}\").replace(os.sep, '/')\n",
    "    train_third_folder = os.path.join(dataset, f\"train/{classes[2]}\").replace(os.sep, '/')\n",
    "\n",
    "    test_first_folder = os.path.join(dataset, f\"test/{classes[0]}\").replace(os.sep, '/')\n",
    "    test_second_folder = os.path.join(dataset, f\"test/{classes[1]}\").replace(os.sep, '/')\n",
    "    test_third_folder = os.path.join(dataset, f\"test/{classes[2]}\").replace(os.sep, '/')\n",
    "\n",
    "    fill_x_and_y_with_images_and_labels(train_first_folder, x_train, y_train, [1, -1, -1], img_size)\n",
    "    fill_x_and_y_with_images_and_labels(train_second_folder, x_train, y_train, [-1, 1, -1], img_size)\n",
    "    fill_x_and_y_with_images_and_labels(train_third_folder, x_train, y_train, [-1, -1, 1], img_size)\n",
    "\n",
    "    fill_x_and_y_with_images_and_labels(test_first_folder, x_test, y_test, [1, -1, -1], img_size)\n",
    "    fill_x_and_y_with_images_and_labels(test_second_folder, x_test, y_test, [-1, 1, -1], img_size)\n",
    "    fill_x_and_y_with_images_and_labels(test_third_folder, x_test, y_test, [-1, -1, 1], img_size)\n",
    "\n",
    "    return (np.array(x_train).astype(np.float), np.array(y_train).astype(np.float)), \\\n",
    "           (np.array(x_test).astype(np.float), np.array(y_test).astype(np.float))"
   ],
   "metadata": {
    "collapsed": false,
    "pycharm": {
     "name": "#%%\n"
    }
   }
  },
  {
   "cell_type": "code",
   "execution_count": 9,
   "outputs": [
    {
     "name": "stdout",
     "output_type": "stream",
     "text": [
      "['jordanie', 'palestine', 'soudan']\n"
     ]
    }
   ],
   "source": [
    "(x_train, y_train), (x_test, y_test) = import_dataset()"
   ],
   "metadata": {
    "collapsed": false,
    "pycharm": {
     "name": "#%%\n"
    }
   }
  },
  {
   "cell_type": "markdown",
   "source": [
    "## Exemple avec une image"
   ],
   "metadata": {
    "collapsed": false,
    "pycharm": {
     "name": "#%% md\n"
    }
   }
  },
  {
   "cell_type": "code",
   "execution_count": 89,
   "outputs": [],
   "source": [
    "image = Image.open(\"C:/Users/Erwan san/Desktop/Country_guesser/resized_dataset/train/jordanie/  (1).jpeg\")\n",
    "img = transform_image(image, IMAGE_SIZE)\n",
    "img.show()\n",
    "hor_flip = img.transpose(Image.FLIP_LEFT_RIGHT)\n",
    "ver_flip = img.transpose(Image.FLIP_TOP_BOTTOM)\n",
    "hor_flip.show()\n",
    "ver_flip.show()"
   ],
   "metadata": {
    "collapsed": false,
    "pycharm": {
     "name": "#%%\n"
    }
   }
  },
  {
   "cell_type": "markdown",
   "source": [
    "Pour chaque image du dataset on se retrouve donc avec 3 images au total.\n",
    "Il était prévu de générer deux autres images, les deux issues d'une rotation, une à 45 degrès et une\n",
    "autre à 90 degrés à l'aide de la méthode .rotate()\n",
    "\n",
    "Malheureusement, 1 image sur 3 environ issue d'une rotation donnait une image noire.\n",
    "Il s'agissait peut-être d'un problème de dimension mais je n'ai pas plus creuser la piste"
   ],
   "metadata": {
    "collapsed": false,
    "pycharm": {
     "name": "#%% md\n"
    }
   }
  },
  {
   "cell_type": "markdown",
   "source": [
    "## Prédictions sur notre dataset\n",
    "\n",
    "Voyons le taux de prédiction qu'obtient un simple modèle non entrainé d'une couche cachée de 8 neurones\n",
    "sur notre dataset d'entraînement\n",
    "\n",
    "### Création du modèle"
   ],
   "metadata": {
    "collapsed": false
   }
  },
  {
   "cell_type": "code",
   "execution_count": 84,
   "outputs": [],
   "source": [
    "np_arr = np.array([len(x_train[0]), 8, 3])\n",
    "npl = np.ctypeslib.as_ctypes(np_arr)\n",
    "model = create_mlp_model(npl)"
   ],
   "metadata": {
    "collapsed": false,
    "pycharm": {
     "name": "#%%\n"
    }
   }
  },
  {
   "cell_type": "markdown",
   "source": [
    "### Predictions"
   ],
   "metadata": {
    "collapsed": false,
    "pycharm": {
     "name": "#%% md\n"
    }
   }
  },
  {
   "cell_type": "code",
   "execution_count": 87,
   "outputs": [
    {
     "name": "stdout",
     "output_type": "stream",
     "text": [
      "Prédiction sur notre dataset d'entraînement :  28.058361391694724 %\n"
     ]
    }
   ],
   "source": [
    "predicted_outputs = [predict_mlp_model_classification(model, x, 3) for x in x_train]\n",
    "acc = 0\n",
    "for p, y in zip(predicted_outputs, y_train):\n",
    "    if np.argmax(p) == np.argmax(y):\n",
    "        acc += 1\n",
    "\n",
    "print(\"Prédiction sur notre dataset d'entraînement : \", acc / len(predicted_outputs) * 100, \"%\")"
   ],
   "metadata": {
    "collapsed": false,
    "pycharm": {
     "name": "#%%\n"
    }
   }
  },
  {
   "cell_type": "markdown",
   "source": [
    "On est généralement autour de 1/3 ...\n",
    "\n",
    "### Entraînement et nouvelles prédictions\n",
    "\n",
    "Entraînons maintenant notre modèle un peu afin de voir s'il apprend correctement ou non\n",
    "On prend un pas d'apprentissage arbitraire de 0.01, et un nombre d'épochs de 10000"
   ],
   "metadata": {
    "collapsed": false
   }
  },
  {
   "cell_type": "code",
   "execution_count": 88,
   "outputs": [
    {
     "name": "stdout",
     "output_type": "stream",
     "text": [
      "Prédiction sur notre dataset d'entraînement, après entraînement :  61.335578002244674 %\n",
      "Prédiction sur notre dataset de test, après entraînement :  65.12345679012346 %\n"
     ]
    }
   ],
   "source": [
    "train_classification_stochastic_backprop_mlp_model(model, x_train.flatten(), y_train.flatten(), 0.01, 10000)\n",
    "\n",
    "predicted_train_outputs_after_training = [predict_mlp_model_classification(model, x, 3) for x in x_train]\n",
    "acc = 0\n",
    "for p, y in zip(predicted_train_outputs_after_training, y_train):\n",
    "    if np.argmax(p) == np.argmax(y):\n",
    "        acc += 1\n",
    "acc = acc / len(predicted_train_outputs_after_training) * 100\n",
    "print(\"Prédiction sur notre dataset d'entraînement, après entraînement : \", acc, \"%\")\n",
    "\n",
    "predicted_test_outputs_after_training = [predict_mlp_model_classification(model, x, 3) for x in x_test]\n",
    "test_acc = 0\n",
    "for p, y in zip(predicted_test_outputs_after_training, y_test):\n",
    "    if np.argmax(p) == np.argmax(y):\n",
    "        test_acc += 1\n",
    "test_acc = test_acc / len(predicted_test_outputs_after_training) * 100\n",
    "print(\"Prédiction sur notre dataset de test, après entraînement : \", test_acc, \"%\")\n",
    "\n",
    "destroy_mlp_model(model)"
   ],
   "metadata": {
    "collapsed": false,
    "pycharm": {
     "name": "#%%\n"
    }
   }
  },
  {
   "cell_type": "markdown",
   "source": [
    "On se rapproche de quelque chose d'intéressant, ce petit modèle fait certainement mieux que du random, en jouant avec\n",
    "nos différents hyperparamètres nous devrions nous approcher d'un modèle performant."
   ],
   "metadata": {
    "collapsed": false,
    "pycharm": {
     "name": "#%% md\n"
    }
   }
  },
  {
   "cell_type": "markdown",
   "source": [
    "### Courbes d'apprentissage\n",
    "\n",
    "Affichons maintenat les courbes d'apprentissages, de loss (différence entre les résultats obtenus et ce que l'on attendait)\n",
    "et d'accuracy (taux de bonne réponse)"
   ],
   "metadata": {
    "collapsed": false,
    "pycharm": {
     "name": "#%% md\n"
    }
   }
  },
  {
   "cell_type": "code",
   "execution_count": 17,
   "outputs": [],
   "source": [
    "from IPython.core.display import clear_output\n",
    "\n",
    "\n",
    "def show_graphs(model, epochs):\n",
    "    losses = []\n",
    "    test_losses = []\n",
    "    accs = []\n",
    "    test_accs = []\n",
    "    (x_train, y_train), (x_test, y_test) = import_dataset()\n",
    "    for epoch in range(epochs):\n",
    "        print(f\"Epoch numéro {epoch} en cours ..\")\n",
    "        train_classification_stochastic_backprop_mlp_model(model, x_train.flatten(), y_train.flatten(), alpha=0.007, epochs=len(x_train))\n",
    "\n",
    "        train_predicted_outputs = [predict_mlp_model_classification(model, x, 3) for x in x_train]\n",
    "        loss = mean_squared_error(y_train, train_predicted_outputs)\n",
    "        losses.append(loss)\n",
    "\n",
    "        test_predicted_outputs = [predict_mlp_model_classification(model, x, 3) for x in x_test]\n",
    "        test_loss = mean_squared_error(y_test, test_predicted_outputs)\n",
    "        test_losses.append(test_loss)\n",
    "\n",
    "        acc = accuracy_score(np.argmax(y_train, axis=1), np.argmax(train_predicted_outputs, axis=1))\n",
    "        # acc = accuracy_score(y_train, train_predicted_outputs)\n",
    "        accs.append(acc)\n",
    "\n",
    "        test_acc = accuracy_score(np.argmax(y_test, axis=1), np.argmax(test_predicted_outputs, axis=1))\n",
    "        # test_acc = accuracy_score(y_test, test_predicted_outputs)\n",
    "        # ValueError: Classification metrics can't handle a mix of multilabel-indicator and continuous-multioutput targets\n",
    "        test_accs.append(test_acc)\n",
    "\n",
    "        clear_output(True)\n",
    "\n",
    "        plt.plot(losses)\n",
    "        plt.plot(test_losses)\n",
    "        plt.legend(['loss', 'val_loss'], loc='upper left')\n",
    "        plt.title('Evolution of loss (CCE)')\n",
    "        plt.xlabel('epochs')\n",
    "        plt.ylabel(f'categorical cross-entropy (softmax loss)')\n",
    "        plt.show()\n",
    "\n",
    "        plt.plot(accs)\n",
    "        plt.plot(test_accs)\n",
    "        plt.legend(['acc', 'val_acc'], loc='upper left')\n",
    "        plt.title('Evolution of accuracy')\n",
    "        plt.xlabel('epochs')\n",
    "        plt.ylabel(f'Accuracy (%)')\n",
    "        plt.show()"
   ],
   "metadata": {
    "collapsed": false,
    "pycharm": {
     "name": "#%%\n"
    }
   }
  },
  {
   "cell_type": "code",
   "execution_count": 18,
   "outputs": [
    {
     "data": {
      "text/plain": "<Figure size 432x288 with 1 Axes>",
      "image/png": "[encoded data removed]"
     },
     "metadata": {
      "needs_background": "light"
     },
     "output_type": "display_data"
    },
    {
     "data": {
      "text/plain": "<Figure size 432x288 with 1 Axes>",
      "image/png": "[encoded data removed]"
     },
     "metadata": {
      "needs_background": "light"
     },
     "output_type": "display_data"
    }
   ],
   "source": [
    "np_arr = np.array([len(x_train[0]), 3, 3])\n",
    "npl = np.ctypeslib.as_ctypes(np_arr)\n",
    "model = create_mlp_model(npl)\n",
    "show_graphs(model, 100)\n",
    "destroy_mlp_model(model)"
   ],
   "metadata": {
    "collapsed": false,
    "pycharm": {
     "name": "#%%\n"
    }
   }
  },
  {
   "cell_type": "code",
   "execution_count": null,
   "outputs": [],
   "source": [],
   "metadata": {
    "collapsed": false,
    "pycharm": {
     "name": "#%%\n"
    }
   }
  },
  {
   "cell_type": "code",
   "execution_count": null,
   "outputs": [],
   "source": [],
   "metadata": {
    "collapsed": false,
    "pycharm": {
     "name": "#%%\n"
    }
   }
  },
  {
   "cell_type": "code",
   "execution_count": null,
   "outputs": [],
   "source": [],
   "metadata": {
    "collapsed": false,
    "pycharm": {
     "name": "#%%\n"
    }
   }
  },
  {
   "cell_type": "code",
   "execution_count": null,
   "outputs": [],
   "source": [],
   "metadata": {
    "collapsed": false,
    "pycharm": {
     "name": "#%%\n"
    }
   }
  },
  {
   "cell_type": "code",
   "execution_count": null,
   "outputs": [],
   "source": [],
   "metadata": {
    "collapsed": false,
    "pycharm": {
     "name": "#%%\n"
    }
   }
  },
  {
   "cell_type": "markdown",
   "source": [],
   "metadata": {
    "collapsed": false
   }
  },
  {
   "cell_type": "code",
   "execution_count": null,
   "outputs": [],
   "source": [],
   "metadata": {
    "collapsed": false,
    "pycharm": {
     "name": "#%%\n"
    }
   }
  },
  {
   "cell_type": "markdown",
   "source": [],
   "metadata": {
    "collapsed": false
   }
  }
 ],
 "metadata": {
  "kernelspec": {
   "display_name": "Python 3",
   "language": "python",
   "name": "python3"
  },
  "language_info": {
   "codemirror_mode": {
    "name": "ipython",
    "version": 2
   },
   "file_extension": ".py",
   "mimetype": "text/x-python",
   "name": "python",
   "nbconvert_exporter": "python",
   "pygments_lexer": "ipython2",
   "version": "2.7.6"
  }
 },
 "nbformat": 4,
 "nbformat_minor": 0
}